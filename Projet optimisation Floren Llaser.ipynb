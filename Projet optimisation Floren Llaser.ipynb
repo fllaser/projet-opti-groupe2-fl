{
 "cells": [
  {
   "cell_type": "markdown",
   "id": "declared-sheep",
   "metadata": {},
   "source": [
    "# Projet optimisation"
   ]
  },
  {
   "cell_type": "markdown",
   "id": "essential-strength",
   "metadata": {},
   "source": [
    "## Etude du problème d'optimisation"
   ]
  },
  {
   "cell_type": "markdown",
   "id": "norman-mexico",
   "metadata": {},
   "source": [
    "### Question 1"
   ]
  },
  {
   "cell_type": "markdown",
   "id": "loose-channel",
   "metadata": {},
   "source": [
    "On cherche à minimiser le lagrangien \n",
    "$L(x,y,K) = K(x_{N}- \\frac{L}{2})^{2} + dx^{2} \\displaystyle\\sum_{i=0}^{N}y_{i}^{2}$ \n",
    "associé au problème de minimisation de la distance quadratique des points à l'axe des abscisses. En effet le terme de gauche est la contrainte \n",
    "$c(x,y) = x_{N} - \\frac{L}{2}$\n",
    "tirée de \n",
    "$x_{N}= \\frac{L}{2}$\n",
    "multipliée par le multiplicateur de Lagrange $K$ associé, le terme de droite est la fonction de $x$ et $y$ à proprement minimiser. Comme on a supposé que pour tout \n",
    "$i\\in\\{0,1,...,N\\}$ on a $x_{i+1}\\geq x_{i}$\n",
    " et $y_{i} = f(x_{i})$, alors $L$ ne dépend que de $x$."
   ]
  },
  {
   "cell_type": "markdown",
   "id": "curious-westminster",
   "metadata": {},
   "source": [
    "### Question 2"
   ]
  },
  {
   "cell_type": "markdown",
   "id": "tested-architecture",
   "metadata": {},
   "source": [
    "Peu importe comment on prend le problème, c'est-à-dire si par exemple on partait de la fin $(x_{N},y_{N}) = ( \\frac{L}{2},0)$ on aurait alors comme condition que $(x_{0},y_{0}) = (0,0)$, on s'aperçoit que le solveur aurait une condition initiale et finale à gérer en même temps, ce qui rend la résolution délicate.\n",
    "\n",
    "Avec la théorie des multiplicateurs de Lagrange, on se ramène à un problème de minimisation sans contraintes puisque celles-ci sont incluses dans la fonction à minimiser."
   ]
  },
  {
   "cell_type": "markdown",
   "id": "covered-torture",
   "metadata": {},
   "source": [
    "### Question 3"
   ]
  },
  {
   "cell_type": "markdown",
   "id": "flexible-belize",
   "metadata": {},
   "source": [
    "Soit un arc $\\Gamma$ orienté régulier de classe $C^{2}$ dans le plan, $\\Gamma$ représentant le tuyau, paramétré par la fonction\n",
    "$f : t\\in \\mathbb{R}\\mapsto(x(t),y(t))\\in\\mathbb{R}^{2}$. On se place dans le repère orthonormé de Frenet\n",
    "$(M(t)=(x(t),y(t)),\\overrightarrow{T}(t),\\overrightarrow{N}(t))$\n",
    "avec\n",
    "\n",
    "\n",
    "$$\n",
    "\\forall t\\in\\mathbb{R}, \\overrightarrow{T}(t) = \\frac{f'(t)}{||f'(t)||}, \\overrightarrow{N}(t) = rot_{\\frac{\\pi}{2}}(\\overrightarrow{T}(t))\n",
    "$$\n",
    "\n",
    "\n",
    "avec $rot_{\\frac{\\pi}{2}}$ l'opérateur effectuant une rotation de $+\\frac{\\pi}{2}$ du vecteur pris en argument, et donc\n",
    "\n",
    "$$\n",
    "\\forall t\\in\\mathbb{R}, ||\\overrightarrow{T}(t)||=||\\overrightarrow{N}(t)||=1\n",
    "$$\n",
    "\n",
    "\n",
    "On pose $x_{i} = x(i\\times dx)$, idem pour $y_{i}$, avec $i\\in\\{0,1,...,N\\}$.\n",
    "Un développement limité de $x$ en $idx+dx$ nous donne :\n",
    "\n",
    "\n",
    "$$\n",
    "x_{i+1} \\approx x_{i} + x'_{i}dx + \\frac{1}{2}x''_{i}dx^2\n",
    "$$\n",
    "\n",
    "\n",
    "Avec $x'_{i} = x'(idx)$ et $x''_{i} = x''(idx)$. Idem en $idx-dx$ :\n",
    "\n",
    "\n",
    "$$\n",
    "x_{i-1} \\approx x_{i} - x'_{i}dx + \\frac{1}{2}x''_{i}dx^2\n",
    "$$\n",
    "\n",
    "\n",
    "La somme nous donne\n",
    "\n",
    "\n",
    "$$\n",
    "x_{i-1}+x_{i-1} \\approx 2x_{i}+x''_{i}dx^2\n",
    "$$\n",
    "\n",
    "\n",
    "D'où\n",
    "\n",
    "\n",
    "$$\n",
    "x''_{i} \\approx \\frac{x_{i-1}-2x_{i}+x_{i-1}}{dx^{2}}\n",
    "$$\n",
    "\n",
    "\n",
    "On procède identiquement avec $y$ et on obtient\n",
    "\n",
    "\n",
    "$$\n",
    "y''_{i} \\approx \\frac{y_{i-1}-2y_{i}+y_{i-1}}{dx^{2}}\n",
    "$$\n",
    "\n",
    "\n",
    "Avec la formule\n",
    "\n",
    "\n",
    "$$\n",
    "f''(t) = s''(t).\\overrightarrow{T}(t) + \\gamma(t)s'(t)^{2}.\\overrightarrow{N}(t)\n",
    "$$\n",
    "\n",
    "\n",
    "Où $s$ est l'abscisse curviligne de $\\Gamma$ telle que pour tous points de $\\Gamma$ de paramètres $t_{1},t_{2}\\in\\mathbb{R}, t_{1}<t_{2}$ la longueur d'arc entre ces points vaut :\n",
    "\n",
    "\n",
    "$$\n",
    "L_{\\Gamma}(t_{1},t_{2}) = s(t_{2})-s(t_{1})\n",
    "$$\n",
    "\n",
    "\n",
    "comme l'on a discrétisé la variable $t\\in\\mathbb{R}$ en $idx$ avec $i\\in\\{0,1,...,N\\}$, on a alors avec les notations évidentes précédentes : $\\forall i\\in\\{0,1,...,N\\}$\n",
    "\n",
    "\n",
    "$$\n",
    "s_{i}=idx, s_{i}'= \\frac{dx}{dx} = 1,s_{i}''=0\n",
    "$$\n",
    "\n",
    "D'où l'on tire\n",
    "\n",
    "$$\n",
    "f_{i}'' = \\gamma_{i}s_{i}'^{2}.\\overrightarrow{N_{i}} = \\gamma_{i}.\\overrightarrow{N_{i}}\n",
    "$$\n",
    "\n",
    "\n",
    "En norme :\n",
    "\n",
    "\n",
    "$$\n",
    "x_{i}''^{2}+y_{i}''^{2} = \\gamma_{i}^{2}\n",
    "$$\n",
    "\n",
    "\n",
    "Soit\n",
    "\n",
    "\n",
    "$$\n",
    "\\left(\\frac{x_{i-1}-2x_{i}+x_{i-1}}{dx^{2}}\\right)^{2} + \\left(\\frac{y_{i-1}-2y_{i}+y_{i-1}}{dx^{2}}\\right)^{2} \\approx \\gamma_{i}^{2}\n",
    "$$\n",
    "\n",
    "\n",
    "Ainsi la condition de courbure limite se traduit par : $\\forall i \\in\\{0,1,...,n\\}$\n",
    "\n",
    "\n",
    "$$\n",
    "\\gamma_{i}^{2}\\leq \\gamma^{2}\n",
    "$$\n",
    "\n",
    "\n",
    "i.e.\n",
    "\n",
    "\n",
    "$$\n",
    "(x_{i-1}-2x_{i}+x_{i-1})^{2}+(y_{i-1}-2y_{i}+y_{i-1})^{2} \\leq \\gamma^{2} dx^{4}\n",
    "$$\n",
    "\n",
    "\n",
    "Donc géométriquement on a tout simplement imposé une courbure limite au tuyau."
   ]
  },
  {
   "cell_type": "markdown",
   "id": "lasting-lambda",
   "metadata": {},
   "source": [
    "### Question 4"
   ]
  },
  {
   "cell_type": "markdown",
   "id": "banner-karaoke",
   "metadata": {},
   "source": [
    "cf les questions précédentes\n",
    "2N+2 variables de décision\n",
    "fonction objectif lagrangien avec toutes les contraintes égalités"
   ]
  },
  {
   "cell_type": "markdown",
   "id": "terminal-firmware",
   "metadata": {},
   "source": [
    "## Etude et résolution numériques"
   ]
  },
  {
   "cell_type": "markdown",
   "id": "whole-sport",
   "metadata": {},
   "source": [
    "### Question 5"
   ]
  },
  {
   "cell_type": "markdown",
   "id": "written-occurrence",
   "metadata": {},
   "source": [
    "On peut utiliser l'algorithme d'arrow hurwicz de minimisation sous contraintes étant donné que l'on peut supposer la fonction paramétrisant la courbe gamma dérivable au moins deux fois, avec transformation des contraintes égalités en contraintes inégalités"
   ]
  }
 ],
 "metadata": {
  "kernelspec": {
   "display_name": "Python 3",
   "language": "python",
   "name": "python3"
  },
  "language_info": {
   "codemirror_mode": {
    "name": "ipython",
    "version": 3
   },
   "file_extension": ".py",
   "mimetype": "text/x-python",
   "name": "python",
   "nbconvert_exporter": "python",
   "pygments_lexer": "ipython3",
   "version": "3.8.8"
  },
  "toc": {
   "base_numbering": 1,
   "nav_menu": {},
   "number_sections": true,
   "sideBar": true,
   "skip_h1_title": false,
   "title_cell": "Table of Contents",
   "title_sidebar": "Contents",
   "toc_cell": false,
   "toc_position": {},
   "toc_section_display": true,
   "toc_window_display": false
  }
 },
 "nbformat": 4,
 "nbformat_minor": 5
}
